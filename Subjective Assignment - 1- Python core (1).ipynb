{
 "cells": [
  {
   "cell_type": "markdown",
   "metadata": {},
   "source": [
    "Q1. Write a Python program to get the string from the given string where\n",
    "all the occurrence of its first char has been changed to '$,' except first\n",
    "char itself?\n",
    "\n",
    "    Sample String: 'prospect'\n",
    "    Expected Result : 'pros$ect'\n"
   ]
  },
  {
   "cell_type": "code",
   "execution_count": 17,
   "metadata": {},
   "outputs": [
    {
     "name": "stdout",
     "output_type": "stream",
     "text": [
      "Enter a word : prospect\n",
      "pros$ect\n"
     ]
    }
   ],
   "source": [
    "Word = input(\"Enter a word : \")\n",
    "firstchar = \"\"\n",
    "firstchar = Word[0]\n",
    "Word = Word[1:].replace(firstchar,\"$\")\n",
    "Word = firstchar + Word\n",
    "print(Word)\n"
   ]
  },
  {
   "cell_type": "markdown",
   "metadata": {},
   "source": [
    "Q2. Write a Python program to get the single string from the two given\n",
    "strings, and separated by the space and swap the first two characters of\n",
    "each string?\n",
    "\n",
    "    Sample String : 'abc', 'xyz'.\n",
    "    Expected Result: 'xyc abz'"
   ]
  },
  {
   "cell_type": "code",
   "execution_count": 28,
   "metadata": {},
   "outputs": [
    {
     "name": "stdout",
     "output_type": "stream",
     "text": [
      "Enter the First String : abc\n",
      "Enter the Second String : xyz\n",
      "xyc abz\n"
     ]
    }
   ],
   "source": [
    "str1 = input('Enter the First String : ')\n",
    "str2 = input('Enter the Second String : ')\n",
    "str_r =\"\"\n",
    "str2_len = len(str2)\n",
    "str1_len = len(str1)\n",
    "str_r+= str2[:2]\n",
    "str_r+= str1[2:]\n",
    "str_r+= \" \"\n",
    "str_r+= str1[:2]\n",
    "str_r+= str2[2:]\n",
    "\n",
    "print(str_r)"
   ]
  },
  {
   "cell_type": "markdown",
   "metadata": {},
   "source": [
    "Q3. Write the Python program to add 'ing' at the end of the given string\n",
    "(length of the string should be at least 3). If given string already ends\n",
    "with 'ing,' then add 'ly' instead. If string length of the given string is less\n",
    "than 3, leave it unchanged?\n",
    "\n",
    "\n",
    "    Sample string: ' abc '\n",
    "    Expected result: ' abcing '\n",
    "    Sample string: ' string '\n",
    "    Expected result: ' stringly '\n"
   ]
  },
  {
   "cell_type": "code",
   "execution_count": 158,
   "metadata": {},
   "outputs": [
    {
     "name": "stdout",
     "output_type": "stream",
     "text": [
      "Enter the String : abc\n",
      "abcing\n"
     ]
    }
   ],
   "source": [
    "String = input('Enter the String : ')\n",
    "if(len(String)>=3):\n",
    "    if(String.find('ing',(len(String)-3),len(String))!= -1):\n",
    "       String+='ly'\n",
    "       print(String)\n",
    "    else:\n",
    "       String+='ing'\n",
    "       print(String)\n",
    "else:\n",
    "       print(String)\n",
    "    "
   ]
  },
  {
   "cell_type": "markdown",
   "metadata": {},
   "source": [
    "Q4. Write the Python program to find the first appearance of the\n",
    "substring 'not' and 'poor' from the given string, if 'not' follows the 'poor',\n",
    "replace the whole 'not'...' poor' substring with 'good'.Return the resulting\n",
    "string.\n",
    "\n",
    "    Sample string: 'The lyrics are not that poor!'\n",
    "    'The lyrics are poor!'\n",
    "    Expected Result: 'The lyrics are good!'\n",
    "    'The lyrics are poor!'"
   ]
  },
  {
   "cell_type": "code",
   "execution_count": 46,
   "metadata": {},
   "outputs": [
    {
     "name": "stdout",
     "output_type": "stream",
     "text": [
      "Enter the sentenceThe lyrics are good\n",
      "The lyrics are good\n"
     ]
    }
   ],
   "source": [
    "sentence = input('Enter the sentence')\n",
    "if(sentence.find('not')!= -1):\n",
    "    not_id = sentence.find('not')\n",
    "    poor_id = sentence.find('poor')\n",
    "    if(poor_id != -1):\n",
    "        if(poor_id > not_id):\n",
    "            sentence = sentence[:not_id]+\"good\" +sentence[(poor_id+4):] \n",
    "    print(sentence)\n",
    "    \n",
    "else:\n",
    "    print(sentence)"
   ]
  },
  {
   "cell_type": "markdown",
   "metadata": {},
   "source": [
    "Q5. Write the Python program to remove the characters which have odd\n",
    "index values of a given string."
   ]
  },
  {
   "cell_type": "code",
   "execution_count": 55,
   "metadata": {},
   "outputs": [
    {
     "name": "stdout",
     "output_type": "stream",
     "text": [
      "Enter the string123456789\n",
      "13579\n"
     ]
    }
   ],
   "source": [
    "string = input('Enter the string')\n",
    "res=''\n",
    "for i in range(len(string)):\n",
    "    if(i%2 == 0):\n",
    "        res = res+string[i]\n",
    "print(res)"
   ]
  },
  {
   "cell_type": "markdown",
   "metadata": {},
   "source": [
    "Q6. Write the python program to print the following floating numbers up\n",
    "to 2 decimal places?"
   ]
  },
  {
   "cell_type": "code",
   "execution_count": 69,
   "metadata": {},
   "outputs": [
    {
     "name": "stdout",
     "output_type": "stream",
     "text": [
      "Enter float number4.989898989897678\n",
      "4.9899\n"
     ]
    }
   ],
   "source": [
    "float_num = input('Enter float number')\n",
    "float_num = float(float_num)\n",
    "print(\"{0:.4f}\".format(float_num))"
   ]
  },
  {
   "cell_type": "markdown",
   "metadata": {},
   "source": [
    "Q7. Write the Python program to format a number with a percentage?"
   ]
  },
  {
   "cell_type": "code",
   "execution_count": 75,
   "metadata": {},
   "outputs": [
    {
     "name": "stdout",
     "output_type": "stream",
     "text": [
      "Enter percentage67\n",
      "the percentage is 67\n"
     ]
    }
   ],
   "source": [
    "per = input('Enter percentage')\n",
    "print('the percentage is %s'%per)"
   ]
  },
  {
   "cell_type": "markdown",
   "metadata": {},
   "source": [
    "Q8. Write the Python program to count occurrences of a substring in a\n",
    "String?"
   ]
  },
  {
   "cell_type": "code",
   "execution_count": 81,
   "metadata": {},
   "outputs": [
    {
     "name": "stdout",
     "output_type": "stream",
     "text": [
      "Enter the stringgeek geek geek geek \n",
      "Enter the sub stringhi\n",
      "The count of the Substring is 0\n"
     ]
    }
   ],
   "source": [
    "string = input('Enter the string : ')\n",
    "substr = input('Enter the sub string : ')\n",
    "start = 0\n",
    "count=0\n",
    "sublen=len(substr)\n",
    "while(True):\n",
    "    start = string.find(substr,start)\n",
    "    if(start == -1):\n",
    "        break\n",
    "    else:\n",
    "        count+=1\n",
    "        start +=sublen\n",
    "print('The count of the Substring is %d'%count)\n",
    "    \n",
    "    "
   ]
  },
  {
   "cell_type": "markdown",
   "metadata": {},
   "source": [
    "Q9. Write the Python program to count repeated characters in a string.\n",
    "\n",
    "    Sample string: ' thequickbrownjumpsoverthelazydog '\n",
    "    \n",
    "    Expected output:\n",
    "    o 3\n",
    "    e 3\n",
    "    u 2\n",
    "    h 2\n",
    "    r 2\n",
    "    t 2"
   ]
  },
  {
   "cell_type": "code",
   "execution_count": 88,
   "metadata": {},
   "outputs": [
    {
     "name": "stdout",
     "output_type": "stream",
     "text": [
      "Enter the string : thequickbrownjumpsoverthelazydog\n",
      "e 3\n",
      "h 2\n",
      "o 3\n",
      "r 2\n",
      "t 2\n",
      "u 2\n"
     ]
    }
   ],
   "source": [
    "string = input('Enter the string : ')\n",
    "charcount =[0 for i in range(27)]\n",
    "for i in range(len(string)):\n",
    "    charcount[(ord(string[i]))-97]+=1\n",
    "for i in range(len(charcount)):\n",
    "    if(charcount[i]>1):\n",
    "        print(\"%c %d\"%(chr(i+97),charcount[i]))\n"
   ]
  },
  {
   "cell_type": "markdown",
   "metadata": {},
   "source": [
    "Q10. Write the Python program to print the square and cube symbol in\n",
    "the area of a rectangle and volume of a cylinder?\n",
    "\n",
    "    Sample outputThe area of the rectangle is 1256.66cm2\n",
    "    The volume of the cylinder is 1254.725cm3\n"
   ]
  },
  {
   "cell_type": "code",
   "execution_count": 98,
   "metadata": {},
   "outputs": [
    {
     "name": "stdout",
     "output_type": "stream",
     "text": [
      "Enter the length : 2\n",
      "Enter the breath : 3\n",
      "Enter the radius of cylinder : 10\n",
      "Enter the height of the cylinder : 10\n",
      "The area of the rectangle is 6cm²\n",
      "The volume of the cylinder is 3142.8571428571427cm³\n"
     ]
    }
   ],
   "source": [
    "length = input(\"Enter the length : \")\n",
    "breath = input(\"Enter the breath : \")\n",
    "radius = input(\"Enter the radius of cylinder : \")\n",
    "height = input(\"Enter the height of the cylinder : \")\n",
    "volume = int(length) * int(breath)\n",
    "volume_cyli = (22/7) * int(radius)**2*int(height)\n",
    "print('The area of the rectangle is {}cm\\N{SUPERSCRIPT TWO}'.format(str(volume)))\n",
    "print('The volume of the cylinder is {}cm\\N{SUPERSCRIPT THREE}'.format(str(volume_cyli)))"
   ]
  },
  {
   "cell_type": "markdown",
   "metadata": {},
   "source": [
    "Q11. Write the Python program to check if a string contains all letters of\n",
    "the alphabet?"
   ]
  },
  {
   "cell_type": "code",
   "execution_count": 106,
   "metadata": {},
   "outputs": [
    {
     "name": "stdout",
     "output_type": "stream",
     "text": [
      "Enter the string : thequickbrownjumpsoverthelazydogfx\n",
      "Does have all the all alphabet\n"
     ]
    }
   ],
   "source": [
    "string = input('Enter the string : ')\n",
    "charcount =[0 for i in range(26)]\n",
    "for i in range(len(string)):\n",
    "    charcount[(ord(string[i]))-97]+=1\n",
    "if(0 in charcount):\n",
    "    print(\"Does not contain all the alphabet\")\n",
    "    \n",
    "else:\n",
    "    print(\"Does have all the all alphabet\")"
   ]
  },
  {
   "cell_type": "markdown",
   "metadata": {},
   "source": [
    "Q12. Write the Python program to find the second most repeated word\n",
    "in a given string?"
   ]
  },
  {
   "cell_type": "code",
   "execution_count": 159,
   "metadata": {},
   "outputs": [
    {
     "name": "stdout",
     "output_type": "stream",
     "text": [
      "Enter the sentence : hi hi hi hi hi hi hi no no no\n",
      "Counter({'hi': 7, 'no': 3})\n",
      "no\n"
     ]
    }
   ],
   "source": [
    "from collections import Counter \n",
    "string = input('Enter the sentence : ')\n",
    "string = string.split(' ')\n",
    "count =[0 for i in range(len(string))]\n",
    "cmax=-1\n",
    "premax = -1\n",
    "dict = Counter(string) \n",
    "value = sorted(dict.values(), reverse=True) \n",
    "secondLarge = value[1]\n",
    "for (key, val) in dict.items(): \n",
    "    if val == secondLarge: \n",
    "        print(key) \n",
    "        \n",
    "        \n",
    "    \n",
    "        \n",
    "\n"
   ]
  },
  {
   "cell_type": "markdown",
   "metadata": {},
   "source": [
    "Q13. Write the Python program to find the minimum window in the given\n",
    "string, which will contains all the characters of another given\n",
    "strings?\n",
    "\n",
    "    Example 1\n",
    "    Input : string1 = \" PRWSOERIUSFK \"\n",
    "    string2 = \" OSU \"\n",
    "    Output: Minimum window is \"OERIUS\""
   ]
  },
  {
   "cell_type": "code",
   "execution_count": 167,
   "metadata": {},
   "outputs": [
    {
     "name": "stdout",
     "output_type": "stream",
     "text": [
      "Enter the String 1 : PRWSOERIUSFK\n",
      "Enter the String 2 : OSU\n",
      "SOERIU\n"
     ]
    }
   ],
   "source": [
    "no_of_chars = 256\n",
    "def findSubString(string, pat):  \n",
    "    \n",
    "  \n",
    "    len1 = len(string)  \n",
    "    len2 = len(pat)  \n",
    "    if len1 < len2:  \n",
    "      \n",
    "        print(\"No such window exists\")  \n",
    "        return \"\"  \n",
    "  \n",
    "    hash_pat = [0] * no_of_chars \n",
    "    hash_str = [0] * no_of_chars  \n",
    "    for i in range(0, len2):  \n",
    "        hash_pat[ord(pat[i])] += 1 \n",
    "    start, start_index, min_len = 0, -1, float('inf')  \n",
    "    count=0\n",
    "    for j in range(0, len1):  \n",
    "        hash_str[ord(string[j])] += 1\n",
    "        if (hash_pat[ord(string[j])] != 0 and\n",
    "            hash_str[ord(string[j])] <= \n",
    "            hash_pat[ord(string[j])]):  \n",
    "            count += 1\n",
    "        if count == len2:   \n",
    "            while (hash_str[ord(string[start])] >  \n",
    "                   hash_pat[ord(string[start])] or\n",
    "                   hash_pat[ord(string[start])] == 0):  \n",
    "                if (hash_str[ord(string[start])] >  \n",
    "                    hash_pat[ord(string[start])]):  \n",
    "                    hash_str[ord(string[start])] -= 1\n",
    "                start += 1\n",
    "            len_window = j - start + 1\n",
    "            if min_len > len_window:  \n",
    "                min_len = len_window  \n",
    "                start_index = start  \n",
    "  \n",
    "    if start_index == -1: \n",
    "        print(\"No such window exists\")  \n",
    "        return \"\"   \n",
    "    return string[start_index : start_index + min_len]  \n",
    "String = input('Enter the String 1 : ')\n",
    "patten = input('Enter the String 2 : ')\n",
    "print(findSubString(String,patten))"
   ]
  },
  {
   "cell_type": "markdown",
   "metadata": {},
   "source": [
    "Q14. Write the Python program to count number of substrings from a\n",
    "given string of lowercase alphabets with exactly k distinct (given)\n",
    "characters?\n",
    "\n",
    "    Input a string (lowercase alphabets): wolf\n",
    "    Input k: 4\n",
    "    Number of substrings with exactly 4 distinct characters: 1"
   ]
  },
  {
   "cell_type": "code",
   "execution_count": 168,
   "metadata": {},
   "outputs": [
    {
     "name": "stdout",
     "output_type": "stream",
     "text": [
      "Enter the string : wolf\n",
      "Enter the number of distict characters : 4\n",
      "Number of substrings with exactly 4 distinct characters: 1\n"
     ]
    }
   ],
   "source": [
    "def countkDist(str1, k): \n",
    "    n = len(str1) \n",
    "    res = 0\n",
    "    cnt = [0] * 27 \n",
    "    for i in range(0, n): \n",
    "        dist_count = 0\n",
    "        cnt = [0] * 27\n",
    "        for j in range(i, n): \n",
    "            if(cnt[ord(str1[j]) - 97] == 0): \n",
    "                dist_count += 1\n",
    "            cnt[ord(str1[j]) - 97] += 1\n",
    "            if(dist_count == k): \n",
    "                res += 1\n",
    "            if(dist_count > k): \n",
    "                break\n",
    "    return res      \n",
    "String = input('Enter the string : ')\n",
    "k = input('Enter the number of distict characters : ')\n",
    "k=int(k)\n",
    "print(\"Number of substrings with exactly {} distinct characters: {}\".format(k,countkDist(String,k)))"
   ]
  },
  {
   "cell_type": "markdown",
   "metadata": {},
   "source": [
    "Q15. Write the Python program to count number of substrings with same\n",
    "first and last characters of the given string?\n",
    "\n",
    "    Input a string: abcd\n",
    "    4\n"
   ]
  },
  {
   "cell_type": "code",
   "execution_count": 169,
   "metadata": {},
   "outputs": [
    {
     "name": "stdout",
     "output_type": "stream",
     "text": [
      "Enter the stringabcd\n",
      "4\n"
     ]
    }
   ],
   "source": [
    "def checkEquality(s): \n",
    "    return (ord(s[0]) == ord(s[len(s) - 1]))\n",
    "  \n",
    "def countSubstring(s): \n",
    "    result = 0\n",
    "    n = len(s) \n",
    "    for i in range(n): \n",
    "        for j in range(1,n-i+1): \n",
    "            if (checkEquality(s[i:i+j])): \n",
    "                result+=1 \n",
    "    return(result) \n",
    "string = input(\"Enter the string : \")\n",
    "print(countSubstring(string))\n"
   ]
  },
  {
   "cell_type": "markdown",
   "metadata": {},
   "source": [
    "## Great Job!"
   ]
  }
 ],
 "metadata": {
  "kernelspec": {
   "display_name": "Python 3",
   "language": "python",
   "name": "python3"
  },
  "language_info": {
   "codemirror_mode": {
    "name": "ipython",
    "version": 3
   },
   "file_extension": ".py",
   "mimetype": "text/x-python",
   "name": "python",
   "nbconvert_exporter": "python",
   "pygments_lexer": "ipython3",
   "version": "3.7.4"
  }
 },
 "nbformat": 4,
 "nbformat_minor": 2
}

{
 "cells": [
  {
   "cell_type": "markdown",
   "metadata": {},
   "source": [
    "## Python Assignment 4\n"
   ]
  },
  {
   "cell_type": "markdown",
   "metadata": {},
   "source": [
    "1.1 Write a Python Program(with class concepts) to find the area of the triangle using the below\n",
    "formula.<br>\n",
    "area = (s\\*(s-a)\\*(s-b)\\*(s-c)) * * 0.5<br>\n",
    "Function to take the length of the sides of triangle from user should be defined in the parent<br>\n",
    "class and function to calculate the area should be defined in subclass.<br>"
   ]
  },
  {
   "cell_type": "code",
   "execution_count": 13,
   "metadata": {},
   "outputs": [
    {
     "name": "stdout",
     "output_type": "stream",
     "text": [
      "Enter Side A 2\n",
      "Enter Side B 3\n",
      "Enter Side C 6\n",
      "The Area Of the Triangle 12.0\n"
     ]
    }
   ],
   "source": [
    "class Triangle :\n",
    "    def __init__(self,a,b,c):\n",
    "        self.a = a\n",
    "        self.b = b\n",
    "        self.c = c\n",
    "class Area(Triangle):\n",
    "    \n",
    "    def cal_area(self):\n",
    "        s= (self.a+self.b+self.c)//2\n",
    "        return((s*(s-self.a)*(s-self.b)*s-self.c)**(0.5))\n",
    "\n",
    "a = int(input(\"Enter Side A \"))\n",
    "b = int(input(\"Enter Side B \"))\n",
    "c = int(input(\"Enter Side C \"))\n",
    "tri = Area(a,b,c)\n",
    "print(\"The Area Of the Triangle \"+str(tri.cal_area()))"
   ]
  },
  {
   "cell_type": "markdown",
   "metadata": {},
   "source": [
    "1.2 Write a function filter_long_words() that takes a list of words and an integer n and returns<br>\n",
    "the list of words that are longer than n."
   ]
  },
  {
   "cell_type": "code",
   "execution_count": 21,
   "metadata": {},
   "outputs": [
    {
     "name": "stdout",
     "output_type": "stream",
     "text": [
      "['hello']\n"
     ]
    }
   ],
   "source": [
    "def filter_long_words(words,n):\n",
    "    delete=[]\n",
    "    for i in words:\n",
    "        if(len(i) <=n):\n",
    "            delete.append(i)\n",
    "    for i in delete:\n",
    "        words.remove(i)\n",
    "    return(words)\n",
    "words = [\"hello\", \"1\",\"2\",\"3\",\"4\",\"5\"]\n",
    "test = filter_long_words(words,2)\n",
    "print(test)"
   ]
  },
  {
   "cell_type": "markdown",
   "metadata": {},
   "source": [
    "2.1 Write a Python program using function concept that maps list of words into a list of integers<br>\n",
    "representing the lengths of the corresponding words.<br>\n",
    "Hint: If a list [ ab,cde,erty] is passed on to the python function output should come as [2,3,4]<br>\n",
    "Here 2,3 and 4 are the lengths of the words in the list.<br>"
   ]
  },
  {
   "cell_type": "code",
   "execution_count": 30,
   "metadata": {},
   "outputs": [
    {
     "name": "stdout",
     "output_type": "stream",
     "text": [
      "[2, 3, 4]\n"
     ]
    }
   ],
   "source": [
    "def Len(i):\n",
    "    return(len(i))\n",
    "\n",
    "def WordsToLength(words):\n",
    "    Lengths = map(Len,words)\n",
    "    return(list(Lengths))\n",
    "words = [ \"ab\",\"cde\",\"erty\"]\n",
    "print(WordsToLength(words))"
   ]
  },
  {
   "cell_type": "markdown",
   "metadata": {},
   "source": [
    "2.2 Write a Python function which takes a character (i.e. a string of length 1) and returns True if<br>\n",
    "it is a vowel, False otherwise.<br>"
   ]
  },
  {
   "cell_type": "code",
   "execution_count": 33,
   "metadata": {},
   "outputs": [
    {
     "name": "stdout",
     "output_type": "stream",
     "text": [
      "True\n"
     ]
    }
   ],
   "source": [
    "def VowelsToBool(char):\n",
    "    vowels = ['a','e','i','o','u']\n",
    "    if(len(char)==1):\n",
    "        if (char in vowels):\n",
    "            return(True)\n",
    "        else:\n",
    "            return(False)\n",
    "    return(-1)\n",
    "char ='a'\n",
    "print(VowelsToBool(char))\n",
    "char ='a'\n",
    "print(VowelsToBool(char))\n",
    "    "
   ]
  },
  {
   "cell_type": "code",
   "execution_count": null,
   "metadata": {},
   "outputs": [],
   "source": []
  }
 ],
 "metadata": {
  "kernelspec": {
   "display_name": "Python 3",
   "language": "python",
   "name": "python3"
  },
  "language_info": {
   "codemirror_mode": {
    "name": "ipython",
    "version": 3
   },
   "file_extension": ".py",
   "mimetype": "text/x-python",
   "name": "python",
   "nbconvert_exporter": "python",
   "pygments_lexer": "ipython3",
   "version": "3.7.6"
  }
 },
 "nbformat": 4,
 "nbformat_minor": 4
}
